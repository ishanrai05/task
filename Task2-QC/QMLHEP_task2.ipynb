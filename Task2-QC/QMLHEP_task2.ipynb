{
  "nbformat": 4,
  "nbformat_minor": 0,
  "metadata": {
    "colab": {
      "name": "QMLHEP_task2.ipynb",
      "provenance": [],
      "collapsed_sections": [],
      "machine_shape": "hm"
    },
    "kernelspec": {
      "name": "python3",
      "display_name": "Python 3"
    },
    "accelerator": "GPU"
  },
  "cells": [
    {
      "cell_type": "code",
      "metadata": {
        "id": "Cgg4A7_srz8c",
        "colab_type": "code",
        "colab": {}
      },
      "source": [
        "!pip install cirq"
      ],
      "execution_count": 0,
      "outputs": []
    },
    {
      "cell_type": "code",
      "metadata": {
        "id": "Ox1_pT5yr9Dn",
        "colab_type": "code",
        "colab": {}
      },
      "source": [
        "import cirq\n",
        "import math"
      ],
      "execution_count": 0,
      "outputs": []
    },
    {
      "cell_type": "markdown",
      "metadata": {
        "id": "6CpVAu7FZA7v",
        "colab_type": "text"
      },
      "source": [
        "#Task 1\n",
        "\n",
        "###Implement a simple quantum operation with Cirq\n",
        "\n",
        "1. With 5 qubits\n",
        "2. Apply Hadamard operation on every qubit\n",
        "3. Apply CNOT operation on (0, 1), (1,2), (2,3), (3,4)\n",
        "4. SWAP (0, 4)\n",
        "5. Rotate X with pi/2\n",
        "6. Plot the circuit"
      ]
    },
    {
      "cell_type": "code",
      "metadata": {
        "id": "4lKFG6Nxz39E",
        "colab_type": "code",
        "outputId": "7a2e6515-af69-4a50-a14d-a5f2324563a2",
        "colab": {
          "base_uri": "https://localhost:8080/",
          "height": 215
        }
      },
      "source": [
        "# Creating a simple circuit with 5 qubits\n",
        "length = 5\n",
        "circuit = cirq.Circuit()\n",
        "qubits = cirq.LineQubit.range(length)\n",
        "\n",
        "for i in range(5):\n",
        "    # Applying Hadamard Gate to all the qubits \n",
        "    circuit.append([cirq.H(qubits[i])])\n",
        "\n",
        "# Applying Controlled NOT gate (0, 1), (1,2), (2,3), (3,4)\n",
        "circuit.append([\n",
        "    cirq.CNOT(qubits[0],qubits[1]),\n",
        "    cirq.CNOT(qubits[1],qubits[2]),\n",
        "    cirq.CNOT(qubits[2],qubits[3]),\n",
        "    cirq.CNOT(qubits[3],qubits[4]),\n",
        "])\n",
        "\n",
        "# Swapping gate 0 and gate 4\n",
        "circuit.append([cirq.SWAP(qubits[0],qubits[4])])\n",
        "\n",
        "# Rotating all the qubits with Pauli Gate X with pi/2 around X\n",
        "rot = cirq.rx(math.pi/2)\n",
        "circuit.append([rot(qubits[1]),rot(qubits[2]),rot(qubits[3]),rot(qubits[4])])\n",
        "\n",
        "# Measuring the qubits\n",
        "for i in range(length):\n",
        "    circuit.append(cirq.measure(qubits[i],key=f\"q{i}\"))\n",
        "\n",
        "# Plotting the circuit\n",
        "print (circuit)\n"
      ],
      "execution_count": 2,
      "outputs": [
        {
          "output_type": "stream",
          "text": [
            "                                        ┌─────────┐\n",
            "0: ───H───@──────────────────────────────×────────────M('q0')──────────────\n",
            "          │                              │\n",
            "1: ───H───X───@───Rx(0.5π)───M('q1')─────┼─────────────────────────────────\n",
            "              │                          │\n",
            "2: ───H───────X───@──────────Rx(0.5π)────┼M('q2')──────────────────────────\n",
            "                  │                      │\n",
            "3: ───H───────────X──────────@───────────┼Rx(0.5π)────M('q3')──────────────\n",
            "                             │           │\n",
            "4: ───H──────────────────────X───────────×────────────Rx(0.5π)───M('q4')───\n",
            "                                        └─────────┘\n"
          ],
          "name": "stdout"
        }
      ]
    },
    {
      "cell_type": "code",
      "metadata": {
        "id": "p65UsiVYp5rT",
        "colab_type": "code",
        "outputId": "6c145a29-5bc7-4114-ce1e-7f8217c9915a",
        "colab": {
          "base_uri": "https://localhost:8080/",
          "height": 107
        }
      },
      "source": [
        "# Running the circuir on a simulator\n",
        "simulator = cirq.Simulator()\n",
        "result = simulator.run(circuit, repetitions=10000)\n",
        "\n",
        "# finding the probabilities of state |0> and |1>\n",
        "for i in range(length):\n",
        "    prob1 = result.measurements[f'q{i}'].sum()/len(result.measurements[f'q{i}'])\n",
        "    prob0 = 1-prob1\n",
        "    print (f\"q{i} : {result.histogram(key=f'q{i}')} | prob0 : {prob0:5f} | prob1 : {prob1:5f}\")\n"
      ],
      "execution_count": 3,
      "outputs": [
        {
          "output_type": "stream",
          "text": [
            "q0 : Counter({1: 5009, 0: 4991}) | prob0 : 0.499100 | prob1 : 0.500900\n",
            "q1 : Counter({1: 5006, 0: 4994}) | prob0 : 0.499400 | prob1 : 0.500600\n",
            "q2 : Counter({1: 5034, 0: 4966}) | prob0 : 0.496600 | prob1 : 0.503400\n",
            "q3 : Counter({0: 5008, 1: 4992}) | prob0 : 0.500800 | prob1 : 0.499200\n",
            "q4 : Counter({0: 5064, 1: 4936}) | prob0 : 0.506400 | prob1 : 0.493600\n"
          ],
          "name": "stdout"
        }
      ]
    },
    {
      "cell_type": "markdown",
      "metadata": {
        "id": "2luDeQ5EcSeD",
        "colab_type": "text"
      },
      "source": [
        "# Task 2\n",
        "\n",
        "Create a circuit that is a series of small `cirq.Rx` rotations and plot the  probability of measuring the state in the |0⟩ state. For example, for a qubit, at first, you can rotate 0.1 degree, you get one probability of measuring the state in the |0⟩ state; then you rotate another 0.1 degree in addition, you get another probability; then you another 0.1 degree and so on."
      ]
    },
    {
      "cell_type": "code",
      "metadata": {
        "id": "24mqHI6uHGR9",
        "colab_type": "code",
        "outputId": "5a0c7eb7-2d14-4692-b20d-04fb02d23386",
        "colab": {
          "base_uri": "https://localhost:8080/",
          "height": 595
        }
      },
      "source": [
        "# Create a circuit with sequentially increasing rotations of 0.1 rad\n",
        "circuit2 = cirq.Circuit()\n",
        "i=1\n",
        "while(i<=16):\n",
        "    j=1\n",
        "    r=0.1\n",
        "    while (j<=i):\n",
        "        r = 0.1*j\n",
        "        # multiplying with 2 since cirq.rx halves the rotation\n",
        "        rot_x = cirq.rx(r*2)\n",
        "        qubit = cirq.LineQubit(i)\n",
        "        circuit2.append(rot_x(qubit))\n",
        "        j+=1\n",
        "\n",
        "    circuit2.append(cirq.measure(qubit,key=f'q{i}'))\n",
        "    i+=1\n",
        "\n",
        "print(circuit2)"
      ],
      "execution_count": 11,
      "outputs": [
        {
          "output_type": "stream",
          "text": [
            "1: ────Rx(0.064π)───M('q1')─────────────────────────────────────────────────────────────────────────────────────────────────────────────────────────────────────────────────────────────────────────────────────────────────────\n",
            "\n",
            "2: ────Rx(0.064π)───Rx(0.127π)───M('q2')────────────────────────────────────────────────────────────────────────────────────────────────────────────────────────────────────────────────────────────────────────────────────────\n",
            "\n",
            "3: ────Rx(0.064π)───Rx(0.127π)───Rx(0.191π)───M('q3')───────────────────────────────────────────────────────────────────────────────────────────────────────────────────────────────────────────────────────────────────────────\n",
            "\n",
            "4: ────Rx(0.064π)───Rx(0.127π)───Rx(0.191π)───Rx(0.255π)───M('q4')──────────────────────────────────────────────────────────────────────────────────────────────────────────────────────────────────────────────────────────────\n",
            "\n",
            "5: ────Rx(0.064π)───Rx(0.127π)───Rx(0.191π)───Rx(0.255π)───Rx(0.318π)───M('q5')─────────────────────────────────────────────────────────────────────────────────────────────────────────────────────────────────────────────────\n",
            "\n",
            "6: ────Rx(0.064π)───Rx(0.127π)───Rx(0.191π)───Rx(0.255π)───Rx(0.318π)───Rx(0.382π)───M('q6')────────────────────────────────────────────────────────────────────────────────────────────────────────────────────────────────────\n",
            "\n",
            "7: ────Rx(0.064π)───Rx(0.127π)───Rx(0.191π)───Rx(0.255π)───Rx(0.318π)───Rx(0.382π)───Rx(0.446π)───M('q7')───────────────────────────────────────────────────────────────────────────────────────────────────────────────────────\n",
            "\n",
            "8: ────Rx(0.064π)───Rx(0.127π)───Rx(0.191π)───Rx(0.255π)───Rx(0.318π)───Rx(0.382π)───Rx(0.446π)───Rx(0.509π)───M('q8')──────────────────────────────────────────────────────────────────────────────────────────────────────────\n",
            "\n",
            "9: ────Rx(0.064π)───Rx(0.127π)───Rx(0.191π)───Rx(0.255π)───Rx(0.318π)───Rx(0.382π)───Rx(0.446π)───Rx(0.509π)───Rx(0.573π)───M('q9')─────────────────────────────────────────────────────────────────────────────────────────────\n",
            "\n",
            "10: ───Rx(0.064π)───Rx(0.127π)───Rx(0.191π)───Rx(0.255π)───Rx(0.318π)───Rx(0.382π)───Rx(0.446π)───Rx(0.509π)───Rx(0.573π)───Rx(0.637π)───M('q10')───────────────────────────────────────────────────────────────────────────────\n",
            "\n",
            "11: ───Rx(0.064π)───Rx(0.127π)───Rx(0.191π)───Rx(0.255π)───Rx(0.318π)───Rx(0.382π)───Rx(0.446π)───Rx(0.509π)───Rx(0.573π)───Rx(0.637π)───Rx(0.7π)───M('q11')────────────────────────────────────────────────────────────────────\n",
            "\n",
            "12: ───Rx(0.064π)───Rx(0.127π)───Rx(0.191π)───Rx(0.255π)───Rx(0.318π)───Rx(0.382π)───Rx(0.446π)───Rx(0.509π)───Rx(0.573π)───Rx(0.637π)───Rx(0.7π)───Rx(0.764π)───M('q12')───────────────────────────────────────────────────────\n",
            "\n",
            "13: ───Rx(0.064π)───Rx(0.127π)───Rx(0.191π)───Rx(0.255π)───Rx(0.318π)───Rx(0.382π)───Rx(0.446π)───Rx(0.509π)───Rx(0.573π)───Rx(0.637π)───Rx(0.7π)───Rx(0.764π)───Rx(0.828π)───M('q13')──────────────────────────────────────────\n",
            "\n",
            "14: ───Rx(0.064π)───Rx(0.127π)───Rx(0.191π)───Rx(0.255π)───Rx(0.318π)───Rx(0.382π)───Rx(0.446π)───Rx(0.509π)───Rx(0.573π)───Rx(0.637π)───Rx(0.7π)───Rx(0.764π)───Rx(0.828π)───Rx(0.891π)───M('q14')─────────────────────────────\n",
            "\n",
            "15: ───Rx(0.064π)───Rx(0.127π)───Rx(0.191π)───Rx(0.255π)───Rx(0.318π)───Rx(0.382π)───Rx(0.446π)───Rx(0.509π)───Rx(0.573π)───Rx(0.637π)───Rx(0.7π)───Rx(0.764π)───Rx(0.828π)───Rx(0.891π)───Rx(0.955π)───M('q15')────────────────\n",
            "\n",
            "16: ───Rx(0.064π)───Rx(0.127π)───Rx(0.191π)───Rx(0.255π)───Rx(0.318π)───Rx(0.382π)───Rx(0.446π)───Rx(0.509π)───Rx(0.573π)───Rx(0.637π)───Rx(0.7π)───Rx(0.764π)───Rx(0.828π)───Rx(0.891π)───Rx(0.955π)───Rx(1.019π)───M('q16')───\n"
          ],
          "name": "stdout"
        }
      ]
    },
    {
      "cell_type": "code",
      "metadata": {
        "id": "r5MMiXib5JII",
        "colab_type": "code",
        "colab": {}
      },
      "source": [
        "sim = cirq.Simulator()\n",
        "results2 = sim.run(circuit2,repetitions=100000)"
      ],
      "execution_count": 0,
      "outputs": []
    },
    {
      "cell_type": "code",
      "metadata": {
        "id": "8vHw6TalL8XR",
        "colab_type": "code",
        "outputId": "88580344-898e-4d1e-ca2c-cfc4b4e249f5",
        "colab": {
          "base_uri": "https://localhost:8080/",
          "height": 305
        }
      },
      "source": [
        "# Calculating probabilities of |0> after every roation\n",
        "prob_0 = []\n",
        "prob_1 = []\n",
        "for i in range(1,17):\n",
        "    prob1 = results2.measurements[f'q{i}'].sum()/len(results2.measurements[f'q{i}'])\n",
        "    prob0 = 1-prob1\n",
        "    print (f\"Rotations: {i} | prob0 : {prob0:5f} prob1 : {prob1:5f} | {results2.histogram(key=f'q{i}')}\")\n",
        "    prob_0.append(prob0)\n",
        "    prob_1.append(prob1)"
      ],
      "execution_count": 15,
      "outputs": [
        {
          "output_type": "stream",
          "text": [
            "Rotations: 1 | prob0 : 0.990290 prob1 : 0.009710 | Counter({0: 99029, 1: 971})\n",
            "Rotations: 2 | prob0 : 0.913070 prob1 : 0.086930 | Counter({0: 91307, 1: 8693})\n",
            "Rotations: 3 | prob0 : 0.680350 prob1 : 0.319650 | Counter({0: 68035, 1: 31965})\n",
            "Rotations: 4 | prob0 : 0.292590 prob1 : 0.707410 | Counter({1: 70741, 0: 29259})\n",
            "Rotations: 5 | prob0 : 0.004980 prob1 : 0.995020 | Counter({1: 99502, 0: 498})\n",
            "Rotations: 6 | prob0 : 0.257130 prob1 : 0.742870 | Counter({1: 74287, 0: 25713})\n",
            "Rotations: 7 | prob0 : 0.887230 prob1 : 0.112770 | Counter({0: 88723, 1: 11277})\n",
            "Rotations: 8 | prob0 : 0.804680 prob1 : 0.195320 | Counter({0: 80468, 1: 19532})\n",
            "Rotations: 9 | prob0 : 0.044910 prob1 : 0.955090 | Counter({1: 95509, 0: 4491})\n",
            "Rotations: 10 | prob0 : 0.501700 prob1 : 0.498300 | Counter({0: 50170, 1: 49830})\n",
            "Rotations: 11 | prob0 : 0.902030 prob1 : 0.097970 | Counter({0: 90203, 1: 9797})\n",
            "Rotations: 12 | prob0 : 0.002860 prob1 : 0.997140 | Counter({1: 99714, 0: 286})\n",
            "Rotations: 13 | prob0 : 0.899470 prob1 : 0.100530 | Counter({0: 89947, 1: 10053})\n",
            "Rotations: 14 | prob0 : 0.227710 prob1 : 0.772290 | Counter({1: 77229, 0: 22771})\n",
            "Rotations: 15 | prob0 : 0.712310 prob1 : 0.287690 | Counter({0: 71231, 1: 28769})\n",
            "Rotations: 16 | prob0 : 0.263160 prob1 : 0.736840 | Counter({1: 73684, 0: 26316})\n"
          ],
          "name": "stdout"
        }
      ]
    },
    {
      "cell_type": "code",
      "metadata": {
        "id": "wl-1PutdPyoL",
        "colab_type": "code",
        "outputId": "72a6c441-b01b-4c6a-bf5e-606034252db5",
        "colab": {
          "base_uri": "https://localhost:8080/",
          "height": 281
        }
      },
      "source": [
        "import matplotlib.pyplot as plt\n",
        "\n",
        "# Probability of |0> after every rotation\n",
        "plt.title(\"probability of qubit in |0> after measurement\")\n",
        "plt.plot(prob_0)\n",
        "plt.show()"
      ],
      "execution_count": 16,
      "outputs": [
        {
          "output_type": "display_data",
          "data": {
            "image/png": "[encoded data removed]",
            "text/plain": [
              "<Figure size 432x288 with 1 Axes>"
            ]
          },
          "metadata": {
            "tags": []
          }
        }
      ]
    },
    {
      "cell_type": "code",
      "metadata": {
        "id": "ZFeqQgn6z_w4",
        "colab_type": "code",
        "colab": {
          "base_uri": "https://localhost:8080/",
          "height": 281
        },
        "outputId": "d1ad0534-6cdb-4483-92e4-d6809b9fa449"
      },
      "source": [
        "# Probability of |1> after every rotation\n",
        "plt.title(\"probability of qubit in |1> after measurement\")\n",
        "plt.plot(prob_1)\n",
        "plt.show()"
      ],
      "execution_count": 18,
      "outputs": [
        {
          "output_type": "display_data",
          "data": {
            "image/png": "[encoded data removed]",
            "text/plain": [
              "<Figure size 432x288 with 1 Axes>"
            ]
          },
          "metadata": {
            "tags": []
          }
        }
      ]
    },
    {
      "cell_type": "code",
      "metadata": {
        "id": "ZGJL7Uu8F-2M",
        "colab_type": "code",
        "colab": {}
      },
      "source": [
        ""
      ],
      "execution_count": 0,
      "outputs": []
    }
  ]
}